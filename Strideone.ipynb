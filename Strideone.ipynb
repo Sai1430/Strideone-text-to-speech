{
 "cells": [
  {
   "cell_type": "code",
   "execution_count": 1,
   "metadata": {},
   "outputs": [
    {
     "name": "stdout",
     "output_type": "stream",
     "text": [
      "Collecting pyttsx3\n",
      "  Downloading pyttsx3-2.90-py3-none-any.whl (39 kB)\n",
      "Collecting comtypes\n",
      "  Downloading comtypes-1.2.0-py2.py3-none-any.whl (184 kB)\n",
      "Collecting pypiwin32\n",
      "  Downloading pypiwin32-223-py3-none-any.whl (1.7 kB)\n",
      "Requirement already satisfied: pywin32 in c:\\python310\\lib\\site-packages (from pyttsx3) (304)\n",
      "Installing collected packages: pypiwin32, comtypes, pyttsx3\n",
      "Successfully installed comtypes-1.2.0 pypiwin32-223 pyttsx3-2.90\n",
      "Note: you may need to restart the kernel to use updated packages.\n"
     ]
    },
    {
     "name": "stderr",
     "output_type": "stream",
     "text": [
      "WARNING: You are using pip version 21.2.3; however, version 23.1.2 is available.\n",
      "You should consider upgrading via the 'c:\\Python310\\python.exe -m pip install --upgrade pip' command.\n"
     ]
    }
   ],
   "source": [
    "pip install pyttsx3"
   ]
  },
  {
   "cell_type": "code",
   "execution_count": 1,
   "metadata": {},
   "outputs": [
    {
     "name": "stdout",
     "output_type": "stream",
     "text": [
      "word None 1 120000\n",
      "finishing None True\n"
     ]
    }
   ],
   "source": [
    "# importing the pyttsx library\n",
    "import pyttsx3\n",
    "\n",
    "# initialisation\n",
    "engine = pyttsx3.init()\n",
    "\n",
    "# testing\n",
    "engine.say(\"My first code on text-to-speech\")\n",
    "engine.say(\"Thank you,Stride One\")\n",
    "engine.runAndWait()\n",
    "import pyttsx3\n",
    "\n",
    "def onStart():\n",
    "    print ('starting')\n",
    "\n",
    "def onWord(name, location, length):\n",
    "    print('word', name, location, length)\n",
    "\n",
    "def onEnd(name, completed):\n",
    "    print('finishing', name, completed)\n",
    "\n",
    "engine = pyttsx3.init()\n",
    "\n",
    "engine.connect('started-utterance', onStart)\n",
    "engine.connect('started-word', onWord)\n",
    "engine.connect('finished-utterance', onEnd)\n",
    "\n",
    "sen = 'Stride One is  one of the best Financial services Company'\n",
    "\n",
    "\n",
    "engine.say(sen)\n",
    "engine.runAndWait()\n"
   ]
  },
  {
   "cell_type": "code",
   "execution_count": null,
   "metadata": {},
   "outputs": [],
   "source": []
  }
 ],
 "metadata": {
  "kernelspec": {
   "display_name": "Python 3",
   "language": "python",
   "name": "python3"
  },
  "language_info": {
   "codemirror_mode": {
    "name": "ipython",
    "version": 3
   },
   "file_extension": ".py",
   "mimetype": "text/x-python",
   "name": "python",
   "nbconvert_exporter": "python",
   "pygments_lexer": "ipython3",
   "version": "3.10.0"
  },
  "orig_nbformat": 4
 },
 "nbformat": 4,
 "nbformat_minor": 2
}
